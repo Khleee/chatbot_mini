{
  "cells": [
    {
      "cell_type": "markdown",
      "metadata": {
        "id": "ljB7NE4S97SK"
      },
      "source": [
        "# **의도 분류(Multi-Kernel-CNN)**\n",
        "## 참고 URL:\n",
        "- 데이터 처리: https://velog.io/@yelim421/Multi-Kernel-1D-CNN\n",
        "- 모델: https://derekahndev.github.io/machine%20learning/chatbot-4/\n",
        "- 결과 시각화: https://codetorial.net/tensorflow/visualize_training_history.html"
      ]
    },
    {
      "cell_type": "markdown",
      "source": [
        "## **1. 환경설정**"
      ],
      "metadata": {
        "id": "U7KDeKh9mYMh"
      }
    },
    {
      "cell_type": "markdown",
      "source": [
        "★★★★★★★★★★ 필수! ★★★★★★★★★★\n",
        "\n",
        "아래 셀 실행 후 **런타임 다시 시작**을 해야 적용이 됨\n",
        "\n",
        "★★★★★★★★★★★★★★★★★★★★★★★"
      ],
      "metadata": {
        "id": "vmOg6kI_n6c5"
      }
    },
    {
      "cell_type": "code",
      "source": [
        "!pip install konlpy\n",
        "!pip uninstall tensorflow\n",
        "!pip install tensorflow==1.15\n",
        "!pip install h5py==2.10.0"
      ],
      "metadata": {
        "id": "ieVGuVSP-LQC",
        "colab": {
          "base_uri": "https://localhost:8080/"
        },
        "outputId": "f8a91763-581a-4c7b-cac6-4cc7dda54ad9"
      },
      "execution_count": 1,
      "outputs": [
        {
          "output_type": "stream",
          "name": "stdout",
          "text": [
            "Looking in indexes: https://pypi.org/simple, https://us-python.pkg.dev/colab-wheels/public/simple/\n",
            "Collecting konlpy\n",
            "  Downloading konlpy-0.6.0-py2.py3-none-any.whl (19.4 MB)\n",
            "\u001b[K     |████████████████████████████████| 19.4 MB 1.3 MB/s \n",
            "\u001b[?25hRequirement already satisfied: lxml>=4.1.0 in /usr/local/lib/python3.7/dist-packages (from konlpy) (4.9.1)\n",
            "Collecting JPype1>=0.7.0\n",
            "  Downloading JPype1-1.4.0-cp37-cp37m-manylinux_2_5_x86_64.manylinux1_x86_64.whl (453 kB)\n",
            "\u001b[K     |████████████████████████████████| 453 kB 55.4 MB/s \n",
            "\u001b[?25hRequirement already satisfied: numpy>=1.6 in /usr/local/lib/python3.7/dist-packages (from konlpy) (1.21.6)\n",
            "Requirement already satisfied: typing-extensions in /usr/local/lib/python3.7/dist-packages (from JPype1>=0.7.0->konlpy) (4.1.1)\n",
            "Installing collected packages: JPype1, konlpy\n",
            "Successfully installed JPype1-1.4.0 konlpy-0.6.0\n",
            "Found existing installation: tensorflow 2.8.2+zzzcolab20220719082949\n",
            "Uninstalling tensorflow-2.8.2+zzzcolab20220719082949:\n",
            "  Would remove:\n",
            "    /usr/local/bin/estimator_ckpt_converter\n",
            "    /usr/local/bin/import_pb_to_tensorboard\n",
            "    /usr/local/bin/saved_model_cli\n",
            "    /usr/local/bin/tensorboard\n",
            "    /usr/local/bin/tf_upgrade_v2\n",
            "    /usr/local/bin/tflite_convert\n",
            "    /usr/local/bin/toco\n",
            "    /usr/local/bin/toco_from_protos\n",
            "    /usr/local/lib/python3.7/dist-packages/tensorflow-2.8.2+zzzcolab20220719082949.dist-info/*\n",
            "    /usr/local/lib/python3.7/dist-packages/tensorflow/*\n",
            "Proceed (y/n)? y\n",
            "  Successfully uninstalled tensorflow-2.8.2+zzzcolab20220719082949\n",
            "Looking in indexes: https://pypi.org/simple, https://us-python.pkg.dev/colab-wheels/public/simple/\n",
            "Collecting tensorflow==1.15\n",
            "  Downloading tensorflow-1.15.0-cp37-cp37m-manylinux2010_x86_64.whl (412.3 MB)\n",
            "\u001b[K     |████████████████████████████████| 412.3 MB 23 kB/s \n",
            "\u001b[?25hRequirement already satisfied: keras-preprocessing>=1.0.5 in /usr/local/lib/python3.7/dist-packages (from tensorflow==1.15) (1.1.2)\n",
            "Collecting tensorboard<1.16.0,>=1.15.0\n",
            "  Downloading tensorboard-1.15.0-py3-none-any.whl (3.8 MB)\n",
            "\u001b[K     |████████████████████████████████| 3.8 MB 45.3 MB/s \n",
            "\u001b[?25hRequirement already satisfied: absl-py>=0.7.0 in /usr/local/lib/python3.7/dist-packages (from tensorflow==1.15) (1.2.0)\n",
            "Collecting keras-applications>=1.0.8\n",
            "  Downloading Keras_Applications-1.0.8-py3-none-any.whl (50 kB)\n",
            "\u001b[K     |████████████████████████████████| 50 kB 7.3 MB/s \n",
            "\u001b[?25hRequirement already satisfied: opt-einsum>=2.3.2 in /usr/local/lib/python3.7/dist-packages (from tensorflow==1.15) (3.3.0)\n",
            "Requirement already satisfied: numpy<2.0,>=1.16.0 in /usr/local/lib/python3.7/dist-packages (from tensorflow==1.15) (1.21.6)\n",
            "Collecting tensorflow-estimator==1.15.1\n",
            "  Downloading tensorflow_estimator-1.15.1-py2.py3-none-any.whl (503 kB)\n",
            "\u001b[K     |████████████████████████████████| 503 kB 68.4 MB/s \n",
            "\u001b[?25hCollecting gast==0.2.2\n",
            "  Downloading gast-0.2.2.tar.gz (10 kB)\n",
            "Requirement already satisfied: six>=1.10.0 in /usr/local/lib/python3.7/dist-packages (from tensorflow==1.15) (1.15.0)\n",
            "Requirement already satisfied: protobuf>=3.6.1 in /usr/local/lib/python3.7/dist-packages (from tensorflow==1.15) (3.17.3)\n",
            "Requirement already satisfied: grpcio>=1.8.6 in /usr/local/lib/python3.7/dist-packages (from tensorflow==1.15) (1.48.1)\n",
            "Requirement already satisfied: wheel>=0.26 in /usr/local/lib/python3.7/dist-packages (from tensorflow==1.15) (0.37.1)\n",
            "Requirement already satisfied: wrapt>=1.11.1 in /usr/local/lib/python3.7/dist-packages (from tensorflow==1.15) (1.14.1)\n",
            "Requirement already satisfied: google-pasta>=0.1.6 in /usr/local/lib/python3.7/dist-packages (from tensorflow==1.15) (0.2.0)\n",
            "Requirement already satisfied: termcolor>=1.1.0 in /usr/local/lib/python3.7/dist-packages (from tensorflow==1.15) (1.1.0)\n",
            "Requirement already satisfied: astor>=0.6.0 in /usr/local/lib/python3.7/dist-packages (from tensorflow==1.15) (0.8.1)\n",
            "Requirement already satisfied: h5py in /usr/local/lib/python3.7/dist-packages (from keras-applications>=1.0.8->tensorflow==1.15) (3.1.0)\n",
            "Requirement already satisfied: werkzeug>=0.11.15 in /usr/local/lib/python3.7/dist-packages (from tensorboard<1.16.0,>=1.15.0->tensorflow==1.15) (1.0.1)\n",
            "Requirement already satisfied: setuptools>=41.0.0 in /usr/local/lib/python3.7/dist-packages (from tensorboard<1.16.0,>=1.15.0->tensorflow==1.15) (57.4.0)\n",
            "Requirement already satisfied: markdown>=2.6.8 in /usr/local/lib/python3.7/dist-packages (from tensorboard<1.16.0,>=1.15.0->tensorflow==1.15) (3.4.1)\n",
            "Requirement already satisfied: importlib-metadata>=4.4 in /usr/local/lib/python3.7/dist-packages (from markdown>=2.6.8->tensorboard<1.16.0,>=1.15.0->tensorflow==1.15) (4.12.0)\n",
            "Requirement already satisfied: typing-extensions>=3.6.4 in /usr/local/lib/python3.7/dist-packages (from importlib-metadata>=4.4->markdown>=2.6.8->tensorboard<1.16.0,>=1.15.0->tensorflow==1.15) (4.1.1)\n",
            "Requirement already satisfied: zipp>=0.5 in /usr/local/lib/python3.7/dist-packages (from importlib-metadata>=4.4->markdown>=2.6.8->tensorboard<1.16.0,>=1.15.0->tensorflow==1.15) (3.8.1)\n",
            "Requirement already satisfied: cached-property in /usr/local/lib/python3.7/dist-packages (from h5py->keras-applications>=1.0.8->tensorflow==1.15) (1.5.2)\n",
            "Building wheels for collected packages: gast\n",
            "  Building wheel for gast (setup.py) ... \u001b[?25l\u001b[?25hdone\n",
            "  Created wheel for gast: filename=gast-0.2.2-py3-none-any.whl size=7554 sha256=997275e270b1c61bb64a58a9d80d92aa5856f97d0f23d8e32e986696c6e0db81\n",
            "  Stored in directory: /root/.cache/pip/wheels/21/7f/02/420f32a803f7d0967b48dd823da3f558c5166991bfd204eef3\n",
            "Successfully built gast\n",
            "Installing collected packages: tensorflow-estimator, tensorboard, keras-applications, gast, tensorflow\n",
            "  Attempting uninstall: tensorflow-estimator\n",
            "    Found existing installation: tensorflow-estimator 2.8.0\n",
            "    Uninstalling tensorflow-estimator-2.8.0:\n",
            "      Successfully uninstalled tensorflow-estimator-2.8.0\n",
            "  Attempting uninstall: tensorboard\n",
            "    Found existing installation: tensorboard 2.8.0\n",
            "    Uninstalling tensorboard-2.8.0:\n",
            "      Successfully uninstalled tensorboard-2.8.0\n",
            "  Attempting uninstall: gast\n",
            "    Found existing installation: gast 0.5.3\n",
            "    Uninstalling gast-0.5.3:\n",
            "      Successfully uninstalled gast-0.5.3\n",
            "\u001b[31mERROR: pip's dependency resolver does not currently take into account all the packages that are installed. This behaviour is the source of the following dependency conflicts.\n",
            "tensorflow-probability 0.16.0 requires gast>=0.3.2, but you have gast 0.2.2 which is incompatible.\n",
            "kapre 0.3.7 requires tensorflow>=2.0.0, but you have tensorflow 1.15.0 which is incompatible.\u001b[0m\n",
            "Successfully installed gast-0.2.2 keras-applications-1.0.8 tensorboard-1.15.0 tensorflow-1.15.0 tensorflow-estimator-1.15.1\n",
            "Looking in indexes: https://pypi.org/simple, https://us-python.pkg.dev/colab-wheels/public/simple/\n",
            "Collecting h5py==2.10.0\n",
            "  Downloading h5py-2.10.0-cp37-cp37m-manylinux1_x86_64.whl (2.9 MB)\n",
            "\u001b[K     |████████████████████████████████| 2.9 MB 6.8 MB/s \n",
            "\u001b[?25hRequirement already satisfied: six in /usr/local/lib/python3.7/dist-packages (from h5py==2.10.0) (1.15.0)\n",
            "Requirement already satisfied: numpy>=1.7 in /usr/local/lib/python3.7/dist-packages (from h5py==2.10.0) (1.21.6)\n",
            "Installing collected packages: h5py\n",
            "  Attempting uninstall: h5py\n",
            "    Found existing installation: h5py 3.1.0\n",
            "    Uninstalling h5py-3.1.0:\n",
            "      Successfully uninstalled h5py-3.1.0\n",
            "Successfully installed h5py-2.10.0\n"
          ]
        }
      ]
    },
    {
      "cell_type": "code",
      "source": [
        "import tensorflow as tf\n",
        "print('1.15.0로 나와야 버전 적용이 된 것입니다.')\n",
        "tf.__version__"
      ],
      "metadata": {
        "id": "WupEmjedQiA7",
        "colab": {
          "base_uri": "https://localhost:8080/",
          "height": 54
        },
        "outputId": "28343662-ccb9-40d2-b541-f9d00f510227"
      },
      "execution_count": 1,
      "outputs": [
        {
          "output_type": "stream",
          "name": "stdout",
          "text": [
            "1.15.0로 나와야 버전 적용이 된 것입니다.\n"
          ]
        },
        {
          "output_type": "execute_result",
          "data": {
            "text/plain": [
              "'1.15.0'"
            ],
            "application/vnd.google.colaboratory.intrinsic+json": {
              "type": "string"
            }
          },
          "metadata": {},
          "execution_count": 1
        }
      ]
    },
    {
      "cell_type": "code",
      "execution_count": 2,
      "metadata": {
        "id": "OnrV5xlR97SM"
      },
      "outputs": [],
      "source": [
        "import json\n",
        "with open('dongwon_intent.json', 'r', encoding='utf-8') as f:\n",
        "    intent_json = json.load(f)\n",
        "import pandas as pd\n",
        "from konlpy.tag import Okt\n",
        "okt=Okt()\n",
        "from sklearn.model_selection import train_test_split\n",
        "import matplotlib.pyplot as plt\n",
        "import os\n",
        "import pandas as pd\n",
        "import numpy as np\n",
        "import urllib.request\n",
        "from sklearn import preprocessing\n",
        "from tensorflow.keras.preprocessing.text import Tokenizer\n",
        "from tensorflow.keras.preprocessing.sequence import pad_sequences\n",
        "from tensorflow.keras.utils import to_categorical\n",
        "from sklearn.metrics import classification_report"
      ]
    },
    {
      "cell_type": "markdown",
      "metadata": {
        "id": "QNvd_GmL97SN"
      },
      "source": [
        "## **2. 데이터 전처리**"
      ]
    },
    {
      "cell_type": "code",
      "execution_count": 49,
      "metadata": {
        "id": "vyyPbEpr97SO"
      },
      "outputs": [],
      "source": [
        "intents = intent_json['intents']"
      ]
    },
    {
      "cell_type": "code",
      "execution_count": 50,
      "metadata": {
        "id": "RLfASsB697SO"
      },
      "outputs": [],
      "source": [
        "label_list = []\n",
        "itt_list = []\n",
        "\n",
        "intents = intent_json['intents']\n",
        "for i, intent in enumerate(intents):\n",
        "    for j in range(len(intent['examples'])):\n",
        "        label_list.append(intent['intent'])\n",
        "        itt_list.append(intent['examples'][j]['text'])\n",
        "\n",
        "df = pd.DataFrame((zip(itt_list, label_list)), columns = ['intent', 'label'])\n",
        "# df.sample(frac=1)\n",
        "\n",
        "# df['label'].value_counts()"
      ]
    },
    {
      "cell_type": "markdown",
      "metadata": {
        "id": "dVrvitOg97SO"
      },
      "source": [
        "train, test셋을 나누기 위해서는 label별 데이터가 2개 이상 있어야 하지만\n",
        "\n",
        "label이 '정보성질문'인 데이터의 개수가 1개임...\n",
        "\n",
        "intent을 추가할 수 있지만 일단 해당 컬럼을 삭제하여 진행"
      ]
    },
    {
      "cell_type": "code",
      "execution_count": 51,
      "metadata": {
        "id": "RLYp8_mr97SP"
      },
      "outputs": [],
      "source": [
        "new_df=df.drop(df[df['label']=='정보성질문'].index).reset_index(drop=True)\n",
        "\n",
        "intent_train, intent_test, label_train, label_test = train_test_split(new_df['intent'],new_df['label'],test_size=0.3, stratify = new_df['label'])\n",
        "\n",
        "# y_train,y_valid 비율 확인 (value_counts())\n",
        "# print(label_train.value_counts())\n",
        "# print(label_test.value_counts())"
      ]
    },
    {
      "cell_type": "code",
      "execution_count": 52,
      "metadata": {
        "id": "vA0CZ4tT97SP"
      },
      "outputs": [],
      "source": [
        "# Series(intent+label)를 합쳐 Dataframe으로\n",
        "train_data = pd.concat([intent_train, label_train], axis=1)\n",
        "test_data = pd.concat([intent_test, label_test], axis=1)"
      ]
    },
    {
      "cell_type": "code",
      "execution_count": 53,
      "metadata": {
        "colab": {
          "base_uri": "https://localhost:8080/"
        },
        "id": "l-HWVI0Y97SQ",
        "outputId": "fcf3a414-a6c3-4536-c596-51559dcb45ec"
      },
      "outputs": [
        {
          "output_type": "stream",
          "name": "stdout",
          "text": [
            "고유값들의 수(intent, label): 15324 415\n",
            "총 샘플의 수: 15324\n",
            "Null값 존재 확인: False\n"
          ]
        }
      ],
      "source": [
        "print('고유값들의 수(intent, label):', train_data['intent'].nunique(), train_data['label'].nunique())\n",
        "train_data.drop_duplicates(subset=['intent'], inplace=True)\n",
        "print('총 샘플의 수:', len(train_data))\n",
        "print('Null값 존재 확인:', train_data.isnull().values.any())"
      ]
    },
    {
      "cell_type": "markdown",
      "metadata": {
        "id": "Vcvqartb97SQ"
      },
      "source": [
        "## **3. 토큰화**"
      ]
    },
    {
      "cell_type": "code",
      "execution_count": 54,
      "metadata": {
        "id": "IWAKocr097SR"
      },
      "outputs": [],
      "source": [
        "# stopwords = ['의','가','이','은','들','는','좀','잘','걍','과','도','를','으로','자','에','와','한','하다']\n",
        "stopwords = []\n",
        "X_train_token = []\n",
        "for sentence in train_data['intent']:\n",
        "    temp_X = okt.morphs(sentence, stem=True)\n",
        "    temp_X = [word for word in temp_X if not word in stopwords]\n",
        "    X_train_token.append(temp_X)\n",
        "\n",
        "X_test_token = []\n",
        "for sentence in test_data['intent']:\n",
        "    temp_X = okt.morphs(sentence, stem=True)\n",
        "    temp_X = [word for word in temp_X if not word in stopwords]\n",
        "    X_test_token.append(temp_X)"
      ]
    },
    {
      "cell_type": "code",
      "source": [
        "print(train_data)\n",
        "print(X_train_token[0], len(X_train_token[0]))"
      ],
      "metadata": {
        "colab": {
          "base_uri": "https://localhost:8080/"
        },
        "id": "Emze51u-hQ8G",
        "outputId": "81fe78e3-f6b9-4a1a-a82a-2d92525a8c7b"
      },
      "execution_count": 55,
      "outputs": [
        {
          "output_type": "stream",
          "name": "stdout",
          "text": [
            "                                intent       label\n",
            "16517                동원몰 고객만족센터 연락처 질문   고객만족센터연락처\n",
            "1414                                어네         쓰레기\n",
            "21677                     mg에 대해 문의합니당          mg\n",
            "20872   비타민 B복합체는 어떠한 좋은점이 있는지 안내 부탁해요     비타민B복합체\n",
            "4387                   해줄 수 있는게 뭐가 있지?        챗봇역할\n",
            "...                                ...         ...\n",
            "18207          동원 몰에서 가장 인기 있는 상품이 뭐야?  동원몰베스트상품소개\n",
            "11697  비회원 구매로 주문했는데 배송 확인 어떻게 하는지 알려줘     비회원배송확인\n",
            "4354                  제공 서비스에 대해 말해주세요        챗봇역할\n",
            "10466               쿠폰으로 결제 어떻게 하는건가요?      쿠폰결제안내\n",
            "3160                        배송 정책 설명해줘        배송정책\n",
            "\n",
            "[15324 rows x 2 columns]\n",
            "['동원', '몰다', '고객', '만족', '센터', '연락처', '질문'] 7\n"
          ]
        }
      ]
    },
    {
      "cell_type": "markdown",
      "metadata": {
        "id": "sB1bK2Ct97SR"
      },
      "source": [
        "## **4. 정수 인코딩**"
      ]
    },
    {
      "cell_type": "code",
      "execution_count": 56,
      "metadata": {
        "id": "m0wU5LDk97SR"
      },
      "outputs": [],
      "source": [
        "tokenizer = Tokenizer()\n",
        "tokenizer.fit_on_texts(X_train_token)\n",
        "\n",
        "# tokenizer.word_index\n",
        "\n",
        "# 불용어 사전 등록을 위해 단어 빈도수 체크\n",
        "word_count_dic = list(sorted(tokenizer.word_counts.items(), key=lambda x: x[1], reverse=True))[:100]\n",
        "# word_count_dic"
      ]
    },
    {
      "cell_type": "code",
      "execution_count": 57,
      "metadata": {
        "colab": {
          "base_uri": "https://localhost:8080/"
        },
        "id": "V5Qn1_DY97SR",
        "outputId": "349bf643-f58e-4371-ffff-2b5747e1d891"
      },
      "outputs": [
        {
          "output_type": "stream",
          "name": "stdout",
          "text": [
            "vocabulary 크기 : 2835\n",
            "등장 빈도가 2번 이하인 희귀 단어 수: 1466\n",
            "단어 집합에서 희귀 단어의 비율: 51.71075837742505\n",
            "단어 집합에서 희귀 단어의 비율: 1.8489011814929501\n"
          ]
        }
      ],
      "source": [
        "# 등장 빈도수가 3회 미만인 단어들의 비중 확인\n",
        "threshold = 3\n",
        "total_cnt = len(tokenizer.word_index)\n",
        "rare_cnt = 0    # 등장 빈도수가 threshold보다 작은 단어의 개수를 카운트\n",
        "total_freq = 0  # 훈련 데이터의 전체 단어 빈도수 총 합\n",
        "rare_freq = 0   # 등장 빈도수가 threshold보다 작은 단어의 등장 빈도수의 총 합\n",
        "\n",
        "# 단어와 빈도수의 쌍(pair)을 key와 value로 받는다.\n",
        "for key, value in tokenizer.word_counts.items():\n",
        "    total_freq = total_freq + value\n",
        "\n",
        "    if(value < threshold):\n",
        "        rare_cnt = rare_cnt + 1\n",
        "        rare_freq = rare_freq + value\n",
        "\n",
        "print('vocabulary 크기 :', total_cnt)\n",
        "print('등장 빈도가 %s번 이하인 희귀 단어 수: %s'%(threshold - 1, rare_cnt))\n",
        "print('단어 집합에서 희귀 단어의 비율:', (rare_cnt / total_cnt)*100)\n",
        "print(\"단어 집합에서 희귀 단어의 비율:\", (rare_freq / total_freq)*100)"
      ]
    },
    {
      "cell_type": "code",
      "execution_count": 58,
      "metadata": {
        "colab": {
          "base_uri": "https://localhost:8080/"
        },
        "id": "XW2B9htA97SR",
        "outputId": "1e87c802-6bb6-4210-e47b-244b15335402"
      },
      "outputs": [
        {
          "output_type": "stream",
          "name": "stdout",
          "text": [
            "단어 집합의 크기 : 1370\n"
          ]
        }
      ],
      "source": [
        "# e\n",
        "vocab_size = total_cnt - rare_cnt + 1\n",
        "print('단어 집합의 크기 :', vocab_size)"
      ]
    },
    {
      "cell_type": "code",
      "execution_count": 59,
      "metadata": {
        "colab": {
          "base_uri": "https://localhost:8080/"
        },
        "id": "ysh-unEr97SR",
        "outputId": "a75abc09-c5e5-4fb7-9438-fb3488dd027d"
      },
      "outputs": [
        {
          "output_type": "stream",
          "name": "stdout",
          "text": [
            "[[21, 34, 141, 329, 151, 411, 47], [1176, 479], [205, 8, 37, 225, 395, 396]]\n"
          ]
        }
      ],
      "source": [
        "tokenizer = Tokenizer(vocab_size)\n",
        "tokenizer.fit_on_texts(X_train_token)\n",
        "X_train = tokenizer.texts_to_sequences(X_train_token)\n",
        "X_test = tokenizer.texts_to_sequences(X_test_token)\n",
        "\n",
        "print(X_train[:3])"
      ]
    },
    {
      "cell_type": "code",
      "execution_count": 60,
      "metadata": {
        "id": "0PEYA-Cu97SS"
      },
      "outputs": [],
      "source": [
        "y_train = np.array(train_data['label'])\n",
        "y_test = np.array(test_data['label'])"
      ]
    },
    {
      "cell_type": "code",
      "execution_count": 61,
      "metadata": {
        "colab": {
          "base_uri": "https://localhost:8080/"
        },
        "id": "lhg0QdkT97SS",
        "outputId": "6c546a7b-60c7-4301-b172-3c4fd1a9d1c0"
      },
      "outputs": [
        {
          "output_type": "stream",
          "name": "stdout",
          "text": [
            "15137\n",
            "15137\n"
          ]
        },
        {
          "output_type": "stream",
          "name": "stderr",
          "text": [
            "/usr/local/lib/python3.7/dist-packages/numpy/lib/function_base.py:4454: VisibleDeprecationWarning: Creating an ndarray from ragged nested sequences (which is a list-or-tuple of lists-or-tuples-or ndarrays with different lengths or shapes) is deprecated. If you meant to do this, you must specify 'dtype=object' when creating the ndarray.\n",
            "  arr = asarray(arr)\n"
          ]
        }
      ],
      "source": [
        "drop_train = [index for index, sentence in enumerate(X_train) if len(sentence) < 1]\n",
        "\n",
        "X_train = np.delete(X_train, drop_train, axis=0)\n",
        "y_train = np.delete(y_train, drop_train, axis=0)\n",
        "\n",
        "print(len(X_train))\n",
        "print(len(y_train))"
      ]
    },
    {
      "cell_type": "code",
      "source": [
        "# 레이블 인코딩. 레이블에 고유한 정수를 부여\n",
        "idx_encode = preprocessing.LabelEncoder()\n",
        "idx_encode.fit(y_train)\n",
        "\n",
        "y_train = idx_encode.transform(y_train) # 주어진 고유한 정수로 변환\n",
        "y_test = idx_encode.transform(y_test) # 고유한 정수로 변환\n",
        "\n",
        "label_idx = dict(zip(list(idx_encode.classes_), idx_encode.transform(list(idx_encode.classes_))))\n",
        "print('레이블과 정수의 맵핑 관계 :',label_idx)\n",
        "\n",
        "# 추론에 쓰일 Dict\n",
        "reverse_label_idx = {v:k for k,v in label_idx.items()} #// {'AA': '0', 'BB': '1', 'CC': '2'}"
      ],
      "metadata": {
        "colab": {
          "base_uri": "https://localhost:8080/"
        },
        "id": "jQIsV3vs9DRo",
        "outputId": "0858243b-9f15-4127-9fa5-b22b0e83b8af"
      },
      "execution_count": 62,
      "outputs": [
        {
          "output_type": "stream",
          "name": "stdout",
          "text": [
            "레이블과 정수의 맵핑 관계 : {'10주년이벤트안내': 0, '10주년쿠폰유효기간': 1, '10주년쿠폰적용범위': 2, '10주년쿠폰할인금액': 3, '10주년타임특가상품': 4, '10주년타임특가시간': 5, '17년11월롯데리아행사': 6, '17년11월판촉': 7, '17년12월판촉': 8, '18년1월셀렉토커피행사': 9, '18년1월판촉': 10, 'GNC골드회원가입': 11, 'GNC골드회원갱신': 12, 'GNC골드회원안내': 13, 'GNC골드회원이용': 14, 'GNC골드회원인증': 15, 'GNC골드회원혜택': 16, 'GNC상품추천': 17, 'GNC선물세트': 18, 'GNC선물세트특판': 19, 'IU': 20, 'VIP등급기준안내': 21, 'VIP등급회원혜택': 22, 'mcg': 23, 'mg': 24, 'price_present_b1': 25, 'price_present_b3': 26, 'price_present_b5': 27, 'price_present_o5': 28, '가공선물세트': 29, '가공선물세트특판': 30, '가공유지장류': 31, '감사': 32, '거절': 33, '건강선물세트특판': 34, '건강식품선물세트': 35, '결제방법변경': 36, '결제방법안내': 37, '결제지연경우안내': 38, '고객기분나쁨': 39, '고객기분좋음': 40, '고객만족센터연락처': 41, '고객만족센터운영시간': 42, '고객만족센터전화불통': 43, '고등어레시피': 44, '골드등급기준안내': 45, '골드등급회원혜택': 46, '공인인증서의무사용안내': 47, '곶감견과버섯세트': 48, '과일사과배세트': 49, '교양없는호출': 50, '교환신청방법안내': 51, '교환요청': 52, '교환절차': 53, '교환정책': 54, '교환회수날짜지정': 55, '굴비옥돔수산세트': 56, '그린등급회원혜택': 57, '그만': 58, '기분질문': 59, '기프티모아_선물세트': 60, '기획전보러가기': 61, '김멸치젓갈세트': 62, '김장투어안내': 63, '김치상품안내': 64, '꽁치레시피': 65, '날씨': 66, '날짜및시간': 67, '냉장냉동상품더보기': 68, '노래': 69, '농담': 70, '뉴트리플래너발표': 71, '다른레시피': 72, '다른상품교환': 73, '다른질문': 74, '단백질칼로리': 75, '당첨경품배송': 76, '대량주문안내': 77, '대표이사안내': 78, '도서산간지역배송': 79, '도와줘': 80, '동원냉장냉동상품추천': 81, '동원몰강점': 82, '동원몰매출': 83, '동원몰모델': 84, '동원몰베스트상품소개': 85, '동원몰상품문의': 86, '동원몰서포터즈': 87, '동원몰서포터즈발표': 88, '동원몰소개': 89, '동원몰앱안내': 90, '동원몰홈페이지': 91, '동원몰회원제': 92, '동원브랜드및상품소개': 93, '동원상온상품추천': 94, '동원상품추천': 95, '동원샘물회수관련공지': 96, '동원선물세트': 97, '동원선물세트사전예약': 98, '동원선물세트특판': 99, '동원소개': 100, '동원신제품': 101, '동원입사': 102, '동원참치원산지': 103, '동원천지인백수오사용': 104, '동원파워브랜드위크': 105, '동원홈페이지': 106, '럭키딜': 107, '레드등급회원혜택': 108, '레드존': 109, '레드플러스등급회원혜택': 110, '레시피등록': 111, '로그인방법': 112, '롯데리아이벤트유의사항안내': 113, '롯데리아이벤트참여방법': 114, '롯데리아쿠폰및이벤트관련문의': 115, '리챔내용물쉽게꺼내는방법': 116, '리챔레시피': 117, '리챔상품안내': 118, '만두레시피': 119, '만두상품안내': 120, '만원의행복': 121, '맞장구': 122, '명절선물세트문의': 123, '명절선물세트추천': 124, '명절준비필수품기획전': 125, '모바일쿠폰문의': 126, '무료배송안내': 127, '무이자신용카드': 128, '묶음배송': 129, '문의내역확인': 130, '문의유형안내': 131, '문화이벤트당첨안내': 132, '문화이벤트안내': 133, '문화이벤트양도변경': 134, '뭐먹었어': 135, '뭐해': 136, '미네랄': 137, '미용선물세트특판': 138, '반품배송비안내': 139, '반품완료환불기간': 140, '반품요청': 141, '반품절차': 142, '반품접수환불기간': 143, '반품정책': 144, '반품주소문의': 145, '반품지시환불기간': 146, '받을수있는쿠폰안내': 147, '발행종류': 148, '배송기간안내': 149, '배송누락': 150, '배송비부담기준안내': 151, '배송일지정불가안내': 152, '배송정책': 153, '배송지연문의': 154, '배송진행상황조회': 155, '밴드배송선물세트': 156, '밴드배송안내': 157, '밴드쿨밴드적립': 158, '밴드프레시상품안내': 159, '밴드프레시안내': 160, '밴드플러스': 161, '밴드플러스GNC할인혜택안내': 162, '밴드플러스가입방법': 163, '밴드플러스나눔이벤트안내': 164, '밴드플러스동원제품할인적용상품': 165, '밴드플러스서비스소개': 166, '밴드플러스신규등급여부': 167, '밴드플러스신제품체험이벤트안내': 168, '밴드플러스연장방법': 169, '밴드플러스연회비': 170, '밴드플러스적립적용상품': 171, '밴드플러스해지방법': 172, '베스트상품보러가기': 173, '베타카로틴': 174, '보너스혜택': 175, '복지포인트': 176, '블루등급회원혜택': 177, '비타민B복합체': 178, '비회원반품': 179, '비회원배송확인': 180, '비회원주문': 181, '사과': 182, '사랑해': 183, '사이트속도': 184, '상온상품더보기': 185, '상품QA수정': 186, '상품가격차이': 187, '상품검색': 188, '상품문의': 189, '상품수령후발송완료문자': 190, '상품추천': 191, '상품평혜택안내': 192, '새우버거쿠폰확인방법': 193, '샘물상품안내': 194, '생일혜택안내': 195, '생활선물세트특판': 196, '생활용품이미용품': 197, '세금계산서공급자표시': 198, '세금계산서금액기준': 199, '세금계산서마감': 200, '세금계산서발행일자표시': 201, '세금계산서요청방법': 202, '세금계산서요청사업자등록증': 203, '셀렉토커피아메리카노쿠폰확인방법': 204, '셀렉토커피이벤트유의사항안내': 205, '셀렉토커피이벤트참여방법': 206, '셀렉토커피이벤트참여혜택': 207, '셀렉토커피쿠폰및이벤트관련문의': 208, '셰프레시피': 209, '쇼핑지원금리필불가': 210, '수긍': 211, '수용성비타민': 212, '시사상식': 213, '신규가입혜택다운': 214, '신선식품선물세트': 215, '신선식품선물세트특판': 216, '실망및질책': 217, '심심해': 218, '쎈쿡상품안내': 219, '쎈쿡용기환경호르몬': 220, '쓰레기': 221, '씨앗결제안내': 222, '씨앗사용환원안내': 223, '씨앗소멸안내': 224, '씨앗안내': 225, '씨앗양도안내': 226, '씨앗적립방법': 227, '씨앗적립수변동': 228, '씨앗적립시기': 229, '아미노산': 230, '아연': 231, '아울렛에서쇼핑하기': 232, '아직인증못했어요': 233, '알파고': 234, '양반김장투어만의특별한세가지': 235, '양반명품김치상품권등록': 236, '양반명품김치상품권안내': 237, '어려움': 238, '어른을위한선물': 239, '어린이를위한선물': 240, '어린이홍삼안전성': 241, '여러상품주문': 242, '연휴배송기간안내': 243, '오늘의레시피': 244, '오픈베타버전': 245, '외부상품추천': 246, '욕설및비속어': 247, '웃음': 248, '유제품가정배달': 249, '음식추천': 250, '이달의기획전안내': 251, '이달의이벤트안내': 252, '이달의판촉': 253, '이름변경': 254, '이미회원인경우': 255, '인공지능': 256, '인사': 257, '인증완료했어요': 258, '일부취소반품': 259, '일은잘하니': 260, '임박상품': 261, '임산부참치통조림': 262, '임직원몰안내': 263, '임직원몰이동방법': 264, '임직원몰혜택': 265, '임직원복지포인트결제방법': 266, '임직원복지포인트미지급': 267, '임직원인증방법': 268, '임직원인증여부확인': 269, '임직원포인트소멸기한': 270, '임직원포인트안내': 271, '임직원할인포인트가': 272, '임직원할인포인트결제방법': 273, '입금자명불일치안내': 274, '입금확인안내': 275, '입점문의': 276, '자연한입고구마하얀가루': 277, '잘지냈니': 278, '적립금결제안내': 279, '적립금사용환원안내': 280, '적립금소멸안내': 281, '적립금안내': 282, '전체카테고리안내': 283, '정보메일수신거부': 284, '제품보관법': 285, '제품색변화': 286, '주문내용확인': 287, '주문상품변경': 288, '주문절차안내': 289, '주문취소방법안내': 290, '주문취소버튼보여요': 291, '주문취소버튼안보여요': 292, '주문취소환불기간': 293, '주문후주소지변경': 294, '증시': 295, '지금바로처리': 296, '지방칼로리': 297, '지용성비타민': 298, '직접문의안내': 299, '쨈색변하는이유': 300, '차커피음료': 301, '참가비용및결제방법': 302, '참가신청및문의': 303, '참치레시피': 304, '참치상품안내': 305, '참치통조림기름섭취': 306, '챗봇가족': 307, '챗봇거주지': 308, '챗봇나이': 309, '챗봇몸무게': 310, '챗봇별명': 311, '챗봇생일': 312, '챗봇성격': 313, '챗봇성별': 314, '챗봇싫어하는음식': 315, '챗봇애인': 316, '챗봇역할': 317, '챗봇연봉': 318, '챗봇외모': 319, '챗봇운영시간': 320, '챗봇의존재': 321, '챗봇이름': 322, '챗봇이벤트안내': 323, '챗봇좋아하는음식': 324, '챗봇지능': 325, '챗봇취미': 326, '챗봇키': 327, '천지인상품추천': 328, '천지인선물세트': 329, '천지인선물세트특판': 330, '첫만남기념혜택안내': 331, '체험단당첨안내': 332, '체험단배송비결제안내': 333, '체험단배송안내': 334, '체험단이벤트안내': 335, '최고등급등업혜택안내': 336, '취소반품여부': 337, '측쇄사슬아미노산': 338, '카테고리베스트안내-가공.즉석.냉동': 339, '카테고리베스트안내-가전.사무.디지털': 340, '카테고리베스트안내-건식.다이어트': 341, '카테고리베스트안내-김치.반찬.소스': 342, '카테고리베스트안내-모바일쿠폰': 343, '카테고리베스트안내-생활': 344, '카테고리베스트안내-수산': 345, '카테고리베스트안내-쌀.과일.채소.견과': 346, '카테고리베스트안내-유아동.도서': 347, '카테고리베스트안내-주방': 348, '카테고리베스트안내-축산': 349, '카테고리베스트안내-코스트코': 350, '카테고리베스트안내-화장품.바디.헤어': 351, '코스트코구매혜택': 352, '쿠폰결제안내': 353, '쿠폰사용환원안내': 354, '쿠폰소멸안내': 355, '쿠폰안내': 356, '쿨밴드배송안내': 357, '크리스마스_연말모임음식추천': 358, '크리스마스선물': 359, '크리스마스소품': 360, '클레임접수': 361, '키워드부족': 362, '키토산': 363, '타사문의': 364, '탄수화물칼로리': 365, '탈퇴재가입가능여부': 366, '탈퇴재가입혜택이동': 367, '택배사문의': 368, '테스트': 369, '투어기간및접수기간': 370, '투어장소및투어일정': 371, '튀김거품튀는이유': 372, '특가상품': 373, '패밀리등급기준안내': 374, '패밀리등급회원혜택': 375, '푸디야놀자': 376, '푸디야비밀이야': 377, '푸디이름뜻': 378, '품절일시품절상품구입': 379, '프리미엄등급기준안내': 380, '프리미엄등급회원혜택': 381, '한과빵떡': 382, '한우갈비정육세트': 383, '할인포인트': 384, '해결불가건': 385, '햄오리양념육': 386, '현금결제방법안내': 387, '현금영수증명의': 388, '현금영수증발급내역열람': 389, '현금영수증신청가능결제수단': 390, '현금영수증신청방법': 391, '현금영수증제도': 392, '호출': 393, '홍삼건강세트': 394, '화이트등급회원혜택': 395, '환불소요기간': 396, '환불신청환불기간': 397, '환불완료환불기간': 398, '환불요청': 399, '환불절차': 400, '회사연락처': 401, '회사위치': 402, '회원ID분실': 403, '회원가입불가시': 404, '회원가입안내': 405, '회원가입혜택안내': 406, '회원등급조건': 407, '회원비밀번호분실': 408, '회원약관안내': 409, '회원정보변경': 410, '회원최고등급': 411, '회원최하등급': 412, '회원탈퇴안내': 413, '휴대폰결제안내': 414}\n"
          ]
        }
      ]
    },
    {
      "cell_type": "code",
      "execution_count": 63,
      "metadata": {
        "colab": {
          "base_uri": "https://localhost:8080/",
          "height": 316
        },
        "id": "KFsXk2Jc97SS",
        "outputId": "4b1ec730-9da8-4737-f54e-350797861d5e"
      },
      "outputs": [
        {
          "output_type": "stream",
          "name": "stdout",
          "text": [
            "리뷰의 최대 길이 :  65\n",
            "리뷰의 평균 길이 :  6.470502741626478\n"
          ]
        },
        {
          "output_type": "display_data",
          "data": {
            "text/plain": [
              "<Figure size 432x288 with 1 Axes>"
            ],
            "image/png": "[encoded data removed]"
          },
          "metadata": {
            "needs_background": "light"
          }
        }
      ],
      "source": [
        "print('리뷰의 최대 길이 : ',max(len(l) for l in X_train))\n",
        "print('리뷰의 평균 길이 : ',sum(map(len, X_train))/len(X_train))\n",
        "plt.hist([len(s) for s in X_train], bins=50)\n",
        "plt.xlabel('length of samples')\n",
        "plt.ylabel('number of samples')\n",
        "plt.show()"
      ]
    },
    {
      "cell_type": "code",
      "execution_count": 64,
      "metadata": {
        "id": "W0k9F-r097SS"
      },
      "outputs": [],
      "source": [
        "def below_threshold_len(max_len, nested_list):\n",
        "    cnt = 0\n",
        "    for s in nested_list:\n",
        "        if(len(s) <= max_len):\n",
        "            cnt = cnt + 1\n",
        "    print('전체 샘플 중 길이가 %s 이하인 샘플의 비율: %s'%(max_len, (cnt / len(nested_list))*100))"
      ]
    },
    {
      "cell_type": "code",
      "execution_count": 65,
      "metadata": {
        "colab": {
          "base_uri": "https://localhost:8080/"
        },
        "id": "1ne5iVYL97SS",
        "outputId": "7184d490-f5ad-4d23-8a44-6cd47f23c9e9"
      },
      "outputs": [
        {
          "output_type": "stream",
          "name": "stdout",
          "text": [
            "전체 샘플 중 길이가 70 이하인 샘플의 비율: 100.0\n"
          ]
        }
      ],
      "source": [
        "max_len = 70\n",
        "below_threshold_len(max_len, X_train)"
      ]
    },
    {
      "cell_type": "markdown",
      "metadata": {
        "id": "SVqAqiXW97SS"
      },
      "source": [
        "## **5. 패딩**"
      ]
    },
    {
      "cell_type": "code",
      "execution_count": 66,
      "metadata": {
        "colab": {
          "base_uri": "https://localhost:8080/"
        },
        "id": "g5EUf2Mw97SS",
        "outputId": "98318933-5132-401d-96f4-55ea477f2bf6"
      },
      "outputs": [
        {
          "output_type": "stream",
          "name": "stdout",
          "text": [
            "(15137, 70)\n",
            "(6582, 70)\n"
          ]
        }
      ],
      "source": [
        "X_train = pad_sequences(X_train, maxlen = max_len)\n",
        "X_test = pad_sequences(X_test, maxlen = max_len)\n",
        "\n",
        "print(X_train.shape)\n",
        "print(X_test.shape)"
      ]
    },
    {
      "cell_type": "markdown",
      "source": [
        "## **6. D1 CNN 모델 학습 및 평가**"
      ],
      "metadata": {
        "id": "UoFg5ms9p94k"
      }
    },
    {
      "cell_type": "code",
      "execution_count": 67,
      "metadata": {
        "id": "4JrxVRIj97SS"
      },
      "outputs": [],
      "source": [
        "from tensorflow.keras.models import Sequential, Model\n",
        "from tensorflow.keras.layers import Embedding, Dropout, Conv1D, GlobalMaxPooling1D, Dense, Input, Flatten, Concatenate\n",
        "from tensorflow.keras.callbacks import EarlyStopping, ModelCheckpoint\n",
        "from tensorflow.keras.models import load_model"
      ]
    },
    {
      "cell_type": "code",
      "source": [
        "# 하이퍼파라미터 설정\n",
        "dropout_prob = 0.5\n",
        "EMB_SIZE = 128\n",
        "EPOCH = 30\n",
        "VOCAB_SIZE = vocab_size  # 전체 단어 수\n",
        "\n",
        "# CNN 모델 정의\n",
        "input_layer = Input(shape=(max_len,))\n",
        "embedding_layer = Embedding(VOCAB_SIZE, EMB_SIZE, input_length=max_len)(input_layer)\n",
        "dropout_emb = Dropout(rate=dropout_prob)(embedding_layer)\n",
        "\n",
        "conv1 = Conv1D(\n",
        "    filters=128,\n",
        "    kernel_size=3,\n",
        "    padding='valid',\n",
        "    activation=tf.nn.relu)(dropout_emb)\n",
        "pool1 = GlobalMaxPooling1D()(conv1)\n",
        "\n",
        "conv2 = Conv1D(\n",
        "    filters=128,\n",
        "    kernel_size=4,\n",
        "    padding='valid',\n",
        "    activation=tf.nn.relu)(dropout_emb)\n",
        "pool2 = GlobalMaxPooling1D()(conv2)\n",
        "\n",
        "conv3 = Conv1D(\n",
        "    filters=128,\n",
        "    kernel_size=5,\n",
        "    padding='valid',\n",
        "    activation=tf.nn.relu)(dropout_emb)\n",
        "pool3 = GlobalMaxPooling1D()(conv3)\n",
        "\n",
        "# 3, 4, 5-gram 이후 합치기\n",
        "concat = Concatenate()([pool1, pool2, pool3]) # Concatenate([pool1, pool2, pool3])에서 수정\n",
        "\n",
        "hidden = Dense(128, activation=tf.nn.relu)(concat)\n",
        "dropout_hidden = Dropout(rate=dropout_prob)(hidden)\n",
        "logits = Dense(5, name='logits')(dropout_hidden)\n",
        "# predictions = Dense(5, activation=tf.nn.softmax)(logits)\n",
        "predictions = Dense(415, activation=tf.nn.softmax)(logits)\n",
        "\n",
        "# 모델 생성\n",
        "model = Model(inputs=input_layer, outputs=predictions)\n",
        "model.compile(optimizer='adam',\n",
        "              loss='sparse_categorical_crossentropy',\n",
        "              metrics=['accuracy'])\n",
        "\n",
        "# 모델 학습\n",
        "cnn_model = model.fit(X_train, y_train, validation_data = (X_test, y_test), epochs=EPOCH, verbose=1)\n",
        "\n",
        "# # 모델 평가(테스트 데이터셋 이용)\n",
        "# loss, accuracy = model.evaluate(test_ds, verbose=1)\n",
        "# print('Accuracy: %f' % (accuracy * 100))\n",
        "# print('loss: %f' % (loss))\n",
        "\n",
        "# # 모델 저장\n",
        "# model.save('intent_model.h5')"
      ],
      "metadata": {
        "colab": {
          "base_uri": "https://localhost:8080/"
        },
        "id": "Sz6UgwbiEFOT",
        "outputId": "1d935a9f-8809-4e7c-db84-2721d48b885e"
      },
      "execution_count": 68,
      "outputs": [
        {
          "output_type": "stream",
          "name": "stdout",
          "text": [
            "Train on 15137 samples, validate on 6582 samples\n",
            "Epoch 1/30\n",
            "15137/15137 [==============================] - 3s 219us/sample - loss: 5.1134 - acc: 0.0465 - val_loss: 3.7532 - val_acc: 0.2091\n",
            "Epoch 2/30\n",
            "15137/15137 [==============================] - 2s 162us/sample - loss: 3.2552 - acc: 0.2790 - val_loss: 2.3318 - val_acc: 0.5387\n",
            "Epoch 3/30\n",
            "15137/15137 [==============================] - 2s 162us/sample - loss: 2.4740 - acc: 0.4060 - val_loss: 1.8810 - val_acc: 0.5998\n",
            "Epoch 4/30\n",
            "15137/15137 [==============================] - 3s 214us/sample - loss: 2.1426 - acc: 0.4620 - val_loss: 1.6731 - val_acc: 0.6284\n",
            "Epoch 5/30\n",
            "15137/15137 [==============================] - 2s 161us/sample - loss: 1.9563 - acc: 0.4971 - val_loss: 1.5235 - val_acc: 0.6664\n",
            "Epoch 6/30\n",
            "15137/15137 [==============================] - 2s 162us/sample - loss: 1.8238 - acc: 0.5157 - val_loss: 1.4370 - val_acc: 0.6946\n",
            "Epoch 7/30\n",
            "15137/15137 [==============================] - 3s 191us/sample - loss: 1.7399 - acc: 0.5333 - val_loss: 1.3824 - val_acc: 0.6876\n",
            "Epoch 8/30\n",
            "15137/15137 [==============================] - 3s 171us/sample - loss: 1.6587 - acc: 0.5505 - val_loss: 1.3400 - val_acc: 0.7050\n",
            "Epoch 9/30\n",
            "15137/15137 [==============================] - 3s 192us/sample - loss: 1.6163 - acc: 0.5614 - val_loss: 1.3091 - val_acc: 0.7189\n",
            "Epoch 10/30\n",
            "15137/15137 [==============================] - 4s 248us/sample - loss: 1.5590 - acc: 0.5696 - val_loss: 1.2837 - val_acc: 0.7192\n",
            "Epoch 11/30\n",
            "15137/15137 [==============================] - 2s 161us/sample - loss: 1.5226 - acc: 0.5765 - val_loss: 1.2561 - val_acc: 0.7268\n",
            "Epoch 12/30\n",
            "15137/15137 [==============================] - 2s 164us/sample - loss: 1.4633 - acc: 0.5920 - val_loss: 1.2161 - val_acc: 0.7388\n",
            "Epoch 13/30\n",
            "15137/15137 [==============================] - 2s 162us/sample - loss: 1.4401 - acc: 0.5942 - val_loss: 1.2098 - val_acc: 0.7476\n",
            "Epoch 14/30\n",
            "15137/15137 [==============================] - 2s 159us/sample - loss: 1.4298 - acc: 0.5989 - val_loss: 1.1994 - val_acc: 0.7472\n",
            "Epoch 15/30\n",
            "15137/15137 [==============================] - 2s 159us/sample - loss: 1.3832 - acc: 0.6105 - val_loss: 1.1775 - val_acc: 0.7534\n",
            "Epoch 16/30\n",
            "15137/15137 [==============================] - 2s 162us/sample - loss: 1.3626 - acc: 0.6141 - val_loss: 1.1706 - val_acc: 0.7549\n",
            "Epoch 17/30\n",
            "15137/15137 [==============================] - 2s 161us/sample - loss: 1.3437 - acc: 0.6132 - val_loss: 1.1806 - val_acc: 0.7578\n",
            "Epoch 18/30\n",
            "15137/15137 [==============================] - 2s 163us/sample - loss: 1.2861 - acc: 0.6349 - val_loss: 1.1573 - val_acc: 0.7587\n",
            "Epoch 19/30\n",
            "15137/15137 [==============================] - 2s 161us/sample - loss: 1.2605 - acc: 0.6417 - val_loss: 1.1559 - val_acc: 0.7637\n",
            "Epoch 20/30\n",
            "15137/15137 [==============================] - 2s 161us/sample - loss: 1.2482 - acc: 0.6423 - val_loss: 1.1369 - val_acc: 0.7619\n",
            "Epoch 21/30\n",
            "15137/15137 [==============================] - 2s 161us/sample - loss: 1.2296 - acc: 0.6472 - val_loss: 1.1200 - val_acc: 0.7745\n",
            "Epoch 22/30\n",
            "15137/15137 [==============================] - 2s 159us/sample - loss: 1.1957 - acc: 0.6577 - val_loss: 1.1105 - val_acc: 0.7729\n",
            "Epoch 23/30\n",
            "15137/15137 [==============================] - 3s 181us/sample - loss: 1.1856 - acc: 0.6595 - val_loss: 1.1041 - val_acc: 0.7738\n",
            "Epoch 24/30\n",
            "15137/15137 [==============================] - 3s 195us/sample - loss: 1.1493 - acc: 0.6649 - val_loss: 1.0964 - val_acc: 0.7803\n",
            "Epoch 25/30\n",
            "15137/15137 [==============================] - 2s 161us/sample - loss: 1.1321 - acc: 0.6710 - val_loss: 1.0948 - val_acc: 0.7830\n",
            "Epoch 26/30\n",
            "15137/15137 [==============================] - 3s 213us/sample - loss: 1.0997 - acc: 0.6789 - val_loss: 1.0818 - val_acc: 0.7878\n",
            "Epoch 27/30\n",
            "15137/15137 [==============================] - 3s 178us/sample - loss: 1.0963 - acc: 0.6814 - val_loss: 1.0808 - val_acc: 0.7905\n",
            "Epoch 28/30\n",
            "15137/15137 [==============================] - 2s 162us/sample - loss: 1.0716 - acc: 0.6883 - val_loss: 1.0685 - val_acc: 0.7912\n",
            "Epoch 29/30\n",
            "15137/15137 [==============================] - 2s 163us/sample - loss: 1.0523 - acc: 0.6944 - val_loss: 1.0805 - val_acc: 0.7929\n",
            "Epoch 30/30\n",
            "15137/15137 [==============================] - 2s 163us/sample - loss: 1.0373 - acc: 0.6952 - val_loss: 1.0765 - val_acc: 0.8005\n"
          ]
        }
      ]
    },
    {
      "cell_type": "code",
      "source": [
        "print(cnn_model.history)\n",
        "\n",
        "# 훈련 과정 시각화 (정확도)\n",
        "plt.plot(cnn_model.history['acc'])\n",
        "plt.plot(cnn_model.history['val_acc'])\n",
        "plt.title('Model accuracy')\n",
        "plt.xlabel('Epoch')\n",
        "plt.ylabel('Accuracy')\n",
        "plt.legend(['Train', 'Test'], loc='upper left')\n",
        "plt.show()\n",
        "\n",
        "# 훈련 과정 시각화 (손실)\n",
        "plt.plot(cnn_model.history['loss'])\n",
        "plt.plot(cnn_model.history['val_loss'])\n",
        "plt.title('Model loss')\n",
        "plt.xlabel('Epoch')\n",
        "plt.ylabel('Loss')\n",
        "plt.legend(['Train', 'Test'], loc='upper right')\n",
        "plt.show()"
      ],
      "metadata": {
        "colab": {
          "base_uri": "https://localhost:8080/",
          "height": 611
        },
        "id": "eDOLPl4PtGh6",
        "outputId": "2ba79d2c-ae84-4c98-91b1-1e1d53039c75"
      },
      "execution_count": 88,
      "outputs": [
        {
          "output_type": "stream",
          "name": "stdout",
          "text": [
            "{'loss': [5.113350546910503, 3.255196859399181, 2.4739577889781086, 2.1425959273248414, 1.9563167748563377, 1.823773147676, 1.7399399239281221, 1.6586620423971352, 1.6163179445764446, 1.5589796880706421, 1.5226009953755986, 1.4632986947867517, 1.4400555037708715, 1.4297703295955226, 1.3831702191007336, 1.362600437304992, 1.3437180296073874, 1.2861247182330708, 1.2605478805162211, 1.2481640544098271, 1.229623631236496, 1.195729522902907, 1.185643720321267, 1.149336746585269, 1.1321282849772065, 1.0997367945310894, 1.096304606216354, 1.0715923579273745, 1.0523109745352712, 1.0372573287396871], 'acc': [0.046508554, 0.27898526, 0.40595892, 0.46198058, 0.49706018, 0.51569, 0.53332895, 0.5505054, 0.56140584, 0.56959766, 0.5764682, 0.59199315, 0.5941732, 0.5988637, 0.61049086, 0.61405826, 0.6131995, 0.6348682, 0.6417388, 0.6423333, 0.64722204, 0.6577261, 0.65950984, 0.664927, 0.67100483, 0.6789324, 0.6814428, 0.6883134, 0.69439125, 0.695184], 'val_loss': [3.753212496488879, 2.331808750624354, 1.8810405691356074, 1.673127156084919, 1.523535358040067, 1.4369934127889337, 1.3824436623649516, 1.340006744452285, 1.3091015180024432, 1.2837418309101323, 1.2560696940188782, 1.2160592337069052, 1.2098140854923893, 1.1994102034515177, 1.1775366070240836, 1.1706111617669333, 1.1806415916756996, 1.1573448545010536, 1.155893775041036, 1.1369246079707283, 1.1200059066062205, 1.1104698652230074, 1.104099371591914, 1.096359339321105, 1.094778490551914, 1.081794877720256, 1.0807880805423289, 1.0685117588837216, 1.0804818270236154, 1.0764673231076194], 'val_acc': [0.20905499, 0.538742, 0.5998177, 0.6283804, 0.6663628, 0.6946217, 0.6876329, 0.7049529, 0.7189304, 0.7192343, 0.7268307, 0.7388332, 0.7476451, 0.7471893, 0.7534184, 0.7549377, 0.75782436, 0.75873595, 0.7637496, 0.7619265, 0.7745366, 0.7728654, 0.77377695, 0.7803099, 0.7830447, 0.7877545, 0.7904892, 0.79124886, 0.7929201, 0.80051655]}\n"
          ]
        },
        {
          "output_type": "display_data",
          "data": {
            "text/plain": [
              "<Figure size 432x288 with 1 Axes>"
            ],
            "image/png": "[encoded data removed]"
          },
          "metadata": {
            "needs_background": "light"
          }
        },
        {
          "output_type": "display_data",
          "data": {
            "text/plain": [
              "<Figure size 432x288 with 1 Axes>"
            ],
            "image/png": "[encoded data removed]"
          },
          "metadata": {
            "needs_background": "light"
          }
        }
      ]
    },
    {
      "cell_type": "code",
      "source": [
        "# 모델 평가(테스트 데이터셋 이용)\n",
        "loss, accuracy = model.evaluate(X_test, y_test, verbose=1)\n",
        "print('Accuracy: %f' % (accuracy * 100))\n",
        "print('loss: %f' % (loss))\n",
        "\n",
        "# 모델 저장\n",
        "model.save('cnn_model_1.h5')"
      ],
      "metadata": {
        "colab": {
          "base_uri": "https://localhost:8080/"
        },
        "id": "yrN7jehnlEK_",
        "outputId": "23904d17-b380-4e19-c663-c7bdf70aa6ed"
      },
      "execution_count": 26,
      "outputs": [
        {
          "output_type": "stream",
          "name": "stdout",
          "text": [
            "6582/6582 [==============================] - 1s 106us/sample - loss: 1.0073 - acc: 0.7946\n",
            "Accuracy: 79.459131\n",
            "loss: 1.007330\n"
          ]
        }
      ]
    },
    {
      "cell_type": "code",
      "source": [
        "def intentClassification(text):\n",
        "    new_sentence = okt.morphs(text, stem=True)\n",
        "    new_sentence = [word for word in new_sentence if not word in stopwords]\n",
        "    encoded = tokenizer.texts_to_sequences([new_sentence])\n",
        "    pad_new = pad_sequences(encoded, maxlen = max_len)\n",
        "    score = model.predict(pad_new)\n",
        "\n",
        "    return reverse_label_idx.get(np.argmax(score))"
      ],
      "metadata": {
        "id": "H0tBDjz_Lycp"
      },
      "execution_count": 76,
      "outputs": []
    },
    {
      "cell_type": "code",
      "source": [
        "intentClassification(input())"
      ],
      "metadata": {
        "colab": {
          "base_uri": "https://localhost:8080/",
          "height": 54
        },
        "id": "sL8alrohMNv9",
        "outputId": "76925bb0-b4d9-4522-b378-511b1173868c"
      },
      "execution_count": 87,
      "outputs": [
        {
          "name": "stdout",
          "output_type": "stream",
          "text": [
            "비번 까먹었는데 어떻게 해야하나요?\n"
          ]
        },
        {
          "output_type": "execute_result",
          "data": {
            "text/plain": [
              "'회원비밀번호분실'"
            ],
            "application/vnd.google.colaboratory.intrinsic+json": {
              "type": "string"
            }
          },
          "metadata": {},
          "execution_count": 87
        }
      ]
    },
    {
      "cell_type": "markdown",
      "source": [
        "# **★ 이 아래부터는 실행 안해도 됨! ★**"
      ],
      "metadata": {
        "id": "EYqsHF98oe7_"
      }
    },
    {
      "cell_type": "code",
      "source": [
        "# embedding_dim = 128\n",
        "# dropout_prob = (0.5,0.8)\n",
        "# num_filters = 128\n",
        "\n",
        "# model_input = Input(shape = (max_len,))\n",
        "# z = Embedding(vocab_size, embedding_dim, input_length = max_len, name=\"embedding\")(model_input)\n",
        "# z = Dropout(dropout_prob[0])(z)\n",
        "\n",
        "# conv_blocks = []\n",
        "\n",
        "# for sz in [3,4,5]:\n",
        "#     conv = Conv1D(filters = num_filters,\n",
        "#                   kernel_size = sz,\n",
        "#                   padding = \"valid\",\n",
        "#                   activation = \"relu\",\n",
        "#                   strides = 1)(z)\n",
        "#     conv = GlobalMaxPooling1D()(conv)\n",
        "#     conv = Flatten()(conv)\n",
        "#     conv_blocks.append(conv)\n",
        "\n",
        "# z = Concatenate()(conv_blocks) if len(conv_blocks) > 1 else conv_blocks[0]\n",
        "# z = Dropout(dropout_prob[1])(z)\n",
        "# z = Dense(128, activation=\"relu\")(z)\n",
        "# model_output = Dense(1, activation=\"sigmoid\")(z)\n",
        "\n",
        "# model = Model(model_input, model_output)\n",
        "# model.compile(loss=\"sparse_categorical_crossentropy\", optimizer=\"adam\", metrics=[\"acc\"])\n",
        "# es = EarlyStopping(monitor='val_loss', mode='min', verbose=1, patience=4)\n",
        "# mc = ModelCheckpoint('CNN_model.h5', monitor='val_acc', mode='max', verbose=1, save_best_only=True)\n",
        "\n",
        "# model.fit(X_train, y_train, batch_size = 64, epochs=10, validation_data = (X_test, y_test), verbose=2, callbacks=[es, mc])"
      ],
      "metadata": {
        "id": "UGOYCeDXoUQ2"
      },
      "execution_count": null,
      "outputs": []
    },
    {
      "cell_type": "code",
      "source": [
        "# loaded_model = load_model('CNN_model.h5')\n",
        "# print(\"\\n 테스트 정확도: %.4f\" % (loaded_model.evaluate(X_test, y_test)[1]))"
      ],
      "metadata": {
        "id": "KkEaRZ267w8r"
      },
      "execution_count": null,
      "outputs": []
    },
    {
      "cell_type": "code",
      "source": [
        "# def sentiment_predict(new_sentence):\n",
        "#     new_sentence = okt.morphs(new_sentence, stem=True)\n",
        "#     new_sentence = [word for word in new_sentence if not word in stopwords]\n",
        "#     encoded = tokenizer.texts_to_sequences([new_sentence])\n",
        "#     pad_new = pad_sequences(encoded, maxlen = max_len)\n",
        "#     score = float(model.predict(pad_new))\n",
        "#     if(score > 0.5):\n",
        "#         print(\"{:.2f}% 확률로 긍정 리뷰이다.\\n\".format(score * 100))\n",
        "#     else:\n",
        "#         print(\"{:.2f}% 확률로 부정 리뷰이다.\\n\".format((1 - score) * 100))"
      ],
      "metadata": {
        "id": "7eq0Il0G-89x"
      },
      "execution_count": null,
      "outputs": []
    },
    {
      "cell_type": "code",
      "source": [
        "# sentiment_predict('상품 주문 좀 하고싶어!')"
      ],
      "metadata": {
        "colab": {
          "base_uri": "https://localhost:8080/"
        },
        "id": "2Ss7zuAm-98g",
        "outputId": "81f6b8b7-2ec0-42af-cc77-89542308b635"
      },
      "execution_count": null,
      "outputs": [
        {
          "output_type": "stream",
          "name": "stdout",
          "text": [
            "100.00% 확률로 긍정 리뷰이다.\n",
            "\n"
          ]
        }
      ]
    }
  ],
  "metadata": {
    "kernelspec": {
      "display_name": "Python 3.8.12 ('chatbot_1')",
      "language": "python",
      "name": "python3"
    },
    "language_info": {
      "codemirror_mode": {
        "name": "ipython",
        "version": 3
      },
      "file_extension": ".py",
      "mimetype": "text/x-python",
      "name": "python",
      "nbconvert_exporter": "python",
      "pygments_lexer": "ipython3",
      "version": "3.8.12"
    },
    "orig_nbformat": 4,
    "vscode": {
      "interpreter": {
        "hash": "98efaa9117024eb4347d2eed42837d090f19222aef3622c443d69f442e87efad"
      }
    },
    "colab": {
      "provenance": [],
      "collapsed_sections": []
    },
    "accelerator": "GPU"
  },
  "nbformat": 4,
  "nbformat_minor": 0
}