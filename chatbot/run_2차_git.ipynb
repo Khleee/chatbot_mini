{
 "cells": [
  {
   "cell_type": "code",
   "execution_count": 1,
   "metadata": {},
   "outputs": [],
   "source": [
    "# 모듈 load\n",
    "import pandas as pd\n",
    "import numpy as np\n",
    "import json\n",
    "\n",
    "import torch\n",
    "from tokenization_kobert import KoBertTokenizer\n",
    "from transformers import AutoModelForSequenceClassification"
   ]
  },
  {
   "cell_type": "code",
   "execution_count": 2,
   "metadata": {},
   "outputs": [],
   "source": [
    "import time\n",
    "import re"
   ]
  },
  {
   "cell_type": "code",
   "execution_count": 3,
   "metadata": {},
   "outputs": [],
   "source": [
    "from ast import literal_eval"
   ]
  },
  {
   "cell_type": "code",
   "execution_count": 4,
   "metadata": {},
   "outputs": [],
   "source": [
    "# intent_list 생성(MRC 전용)\n",
    "a = open(\"data/2차/intents_mrc용.txt\", \"r\", encoding=\"utf-8\")\n",
    "\n",
    "intent_list = literal_eval(a.read())\n",
    "\n",
    "del a"
   ]
  },
  {
   "cell_type": "code",
   "execution_count": 8,
   "metadata": {},
   "outputs": [],
   "source": [
    "# dialogue 읽기\n",
    "\n",
    "with open('data/2차/dialog_nodes.json', 'r',encoding=\"utf-8\") as f2:\n",
    "    json_data2 = json.load(f2)"
   ]
  },
  {
   "cell_type": "code",
   "execution_count": 9,
   "metadata": {},
   "outputs": [],
   "source": [
    "# dialogue_intents에 해당하는 conditions이 존재하는 dialogue만 뽑아보자(처음 DIA() 에만 쓸거임)\n",
    "json_data3 = []\n",
    "for x in json_data2:\n",
    "    try:\n",
    "        if x[\"conditions\"][0] == \"#\":\n",
    "            json_data3.append(x)\n",
    "    except:\n",
    "        pass"
   ]
  },
  {
   "cell_type": "code",
   "execution_count": 12,
   "metadata": {},
   "outputs": [],
   "source": [
    "# title 전체 목록 읽기\n",
    "title_list = []\n",
    "a = open(\"data/2차/title.txt\",\"r\",encoding=\"utf-8\")\n",
    "for x in a.readlines():\n",
    "    title_list.append(x[:-1])"
   ]
  },
  {
   "cell_type": "code",
   "execution_count": 14,
   "metadata": {},
   "outputs": [
    {
     "name": "stdout",
     "output_type": "stream",
     "text": [
      "1개 존재함\n",
      "사용할 GPU :  NVIDIA GeForce RTX 3060\n"
     ]
    }
   ],
   "source": [
    "# gpu 메모리 청소\n",
    "torch.cuda.empty_cache()\n",
    "\n",
    "# device = gpu 설정\n",
    "if torch.cuda.is_available():     \n",
    "    device = torch.device(\"cuda\")\n",
    "    print('%d개 존재함' % torch.cuda.device_count())\n",
    "    print('사용할 GPU : ', torch.cuda.get_device_name(0))\n",
    "\n",
    "# If not...\n",
    "else:\n",
    "    print('GPU 없어서 CPU로 설정')\n",
    "    device = torch.device(\"cpu\")"
   ]
  },
  {
   "cell_type": "code",
   "execution_count": 15,
   "metadata": {},
   "outputs": [
    {
     "name": "stderr",
     "output_type": "stream",
     "text": [
      "The tokenizer class you load from this checkpoint is not the same type as the class this function is called from. It may result in unexpected tokenization. \n",
      "The tokenizer class you load from this checkpoint is 'BertTokenizer'. \n",
      "The class this function is called from is 'KoBertTokenizer'.\n"
     ]
    }
   ],
   "source": [
    "# 모델 load\n",
    "model2 = AutoModelForSequenceClassification.from_pretrained(\"../model/kobert\").cuda()\n",
    "\n",
    "# 토크나이저 선언\n",
    "tokenizer = KoBertTokenizer.from_pretrained(\"monologg/kobert\")\n",
    "\n",
    "# load 파라미터(변경시 꼭 수정해야해!)\n",
    "max_len = 152"
   ]
  },
  {
   "cell_type": "code",
   "execution_count": 16,
   "metadata": {},
   "outputs": [],
   "source": [
    "# 모델 돌려돌려\n",
    "def MRC(input_ids,attention_masks,start):\n",
    "    model2.eval()\n",
    "\n",
    "    predictions = []\n",
    "    last_layer_attentions = []\n",
    "\n",
    "    input_ids = input_ids.to(device)\n",
    "    attention_masks = attention_masks.to(device)\n",
    "\n",
    "    for i in range(len(input_ids)):\n",
    "        ids = input_ids[i].unsqueeze(0)\n",
    "        masks = attention_masks[i].unsqueeze(0)\n",
    "\n",
    "        with torch.no_grad():\n",
    "            outputs = model2(input_ids=ids,\n",
    "                            attention_mask=masks)\n",
    "\n",
    "        logits = outputs[0]\n",
    "        logits = torch.softmax(logits,dim=1)\n",
    "        last_layer_attention = outputs[1][-1]\n",
    "\n",
    "        logits = logits.detach().cpu().numpy()\n",
    "        last_layer_attention = last_layer_attention.detach().cpu().numpy()\n",
    "\n",
    "        last_layer_attentions.append(last_layer_attention) \n",
    "        predictions.append(logits)\n",
    "\n",
    "    probs = predictions[0][0]\n",
    "    pred_idx = np.argmax(probs)\n",
    "\n",
    "    return intent_list[pred_idx]"
   ]
  },
  {
   "cell_type": "code",
   "execution_count": 18,
   "metadata": {},
   "outputs": [],
   "source": [
    "# DIA, DIA2 에 있는 if start2 == \"처음으로\" 이거는 나중에 intents리스트에 처음으로 라는 의도\n",
    "# 가 존재하면 발동되는 구문임. 만약 그냥 처음으로 들으면 처음으로 돌리고 싶으면 챗봇 시작 셀을\n",
    "# 수정하면 된다"
   ]
  },
  {
   "cell_type": "code",
   "execution_count": 19,
   "metadata": {},
   "outputs": [],
   "source": [
    "# intents에 해당하는 다이얼로그 불러오고 상태 출력\n",
    "# start2 = 배송진행상황조회\n",
    "\n",
    "def DIA(start2):\n",
    "    if start2 == \"처음으로\": # 처음이면 \n",
    "        time.sleep(0.5)\n",
    "        print(\"다시 돌아가겠습니다.\")\n",
    "        return None\n",
    "        \n",
    "    for x in json_data3: # intents = conditions 인 다이얼로그만 들어있는 리스트에서 찾기\n",
    "        if x[\"conditions\"] == \"#\"+start2: # 일단은 condition 기준으로 만들고자함\n",
    "            #  만약 선택지면 next_step이 없음을 이용함\n",
    "            try:\n",
    "                if x[\"output\"] == {}: # 연결은 되어있는데 output만 없는 경우 있음\n",
    "                    ending_temp = [\"-계속해서-\",\"move\",x[\"next_step\"][\"dialog_node\"]]\n",
    "                else:\n",
    "                    ending_temp = [x[\"output\"][\"text\"][\"values\"][0],\"move\",x[\"next_step\"][\"dialog_node\"]]\n",
    "            except:\n",
    "                ending_temp = [x[\"output\"][\"text\"][\"values\"][0],\"select\",x[\"title\"]]\n",
    "            return ending_temp\n",
    "\n",
    "# 만약 아예 모르겠다 하면 ending_temp 는 None으로 리턴한다"
   ]
  },
  {
   "cell_type": "code",
   "execution_count": 28,
   "metadata": {},
   "outputs": [],
   "source": [
    "# intents은 이미 파악했고 연결을 해줌\n",
    "# 배송산간지역배송,ending\n",
    "def DIA2(start2,ending_temp):\n",
    "    if start2 == \"처음으로\":\n",
    "        time.sleep(0.5)\n",
    "        print(\"다시 돌아가겠습니다.\")\n",
    "        return None\n",
    "\n",
    "    if ending_temp[1] == \"YNO\":\n",
    "        if ending_temp[2][-2] == \"-\": # - 인경우는 뒤에 바로 붙기때문에 꼼수를 써야함\n",
    "            ending_temp[2] = ending_temp[2] + \"ex\" # len을 2 늘린다!\n",
    "        # start2에 따라 이동할 노드를 저장해야함\n",
    "        # 그 다음 선택지도 선택지일수도 있고 아닐수도있음 -> 확인해서 [1]을 수정해놔야한다!\n",
    "        if start2 == \"네\":\n",
    "            for x in json_data2:\n",
    "                # title이 없는 경우도 있어서 오류남(예시 - 회원가입)\n",
    "                try:\n",
    "                    if x[\"title\"] is not None:\n",
    "                        pass\n",
    "                except:\n",
    "                    continue\n",
    "\n",
    "                # title 기준\n",
    "                if x[\"title\"] == ending_temp[2][:-2]+\"-Y\":\n",
    "                    try:\n",
    "                        ending_temp = [x[\"output\"][\"text\"][\"values\"][0],\"move\",x[\"next_step\"][\"dialog_node\"]]\n",
    "                    except:\n",
    "                        ending_temp = [x[\"output\"][\"text\"][\"values\"][0],\"select\",x[\"title\"]]\n",
    "                    return ending_temp\n",
    "\n",
    "        elif start2 == \"아니요\":\n",
    "            for x in json_data2:\n",
    "                # title 기준\n",
    "                if x[\"title\"] == ending_temp[2][:-2]+\"-N\":\n",
    "                    try:\n",
    "                        ending_temp = [x[\"output\"][\"text\"][\"values\"][0],\"move\",x[\"next_step\"][\"dialog_node\"]]\n",
    "                    except:\n",
    "                        ending_temp = [x[\"output\"][\"text\"][\"values\"][0],\"select\",x[\"title\"]]\n",
    "                    return ending_temp\n",
    "        else: # elif start2 == \"몰라요\": mrc 이용해서 잘못된 응답임을 확인하던가\n",
    "            for x in json_data2:\n",
    "                # title 기준\n",
    "                if x[\"title\"] == ending_temp[2][:-2]+\"-O\":\n",
    "                    try:\n",
    "                        ending_temp = [x[\"output\"][\"text\"][\"values\"][0],\"move\",x[\"next_step\"][\"dialog_node\"]]\n",
    "                    except:\n",
    "                        ending_temp = [x[\"output\"][\"text\"][\"values\"][0],\"select\",x[\"title\"]]\n",
    "                    return ending_temp\n",
    "\n",
    "    elif ending_temp[1] == \"AB\":\n",
    "        if ending_temp[2][-2] == \"-\": # - 인경우는 뒤에 바로 붙기때문에 꼼수를 써야함\n",
    "            ending_temp[2] = ending_temp[2] + \"ex\"\n",
    "        pass # 나중에 구현\n",
    "\n",
    "\n",
    "    elif ending_temp[1] == \"move\": # next_step이 있으므로 dialog_node와 title이 안맞는 경우 발생\n",
    "        # ending_temp[2] == \"node_5_1510637060394\" 라면?\n",
    "        if ending_temp[2] == \"node_5_1510637060394\":\n",
    "            time.sleep(0.5)\n",
    "            print(\"다시 돌아가겠습니다.\")\n",
    "            return None\n",
    "        \n",
    "        # 그래서 dialog_node로 비교해야함\n",
    "        for x in json_data2:\n",
    "            # dialog_node 기준\n",
    "            if x[\"dialog_node\"] == ending_temp[2]:\n",
    "                try:\n",
    "                    if x[\"output\"] == {}:\n",
    "                        ending_temp = [\"-계속해서-\",\"move\",x[\"next_step\"][\"dialog_node\"]]\n",
    "                    else:\n",
    "                        ending_temp = [x[\"output\"][\"text\"][\"values\"][0],\"move\",x[\"next_step\"][\"dialog_node\"]]\n",
    "                except:\n",
    "                    ending_temp = [x[\"output\"][\"text\"][\"values\"][0],\"select\",x[\"title\"]]\n",
    "                return ending_temp\n",
    "\n",
    "# 만약 아예 모르겠다 하면 ending_temp 는 None으로 리턴한다\n"
   ]
  },
  {
   "cell_type": "code",
   "execution_count": 29,
   "metadata": {},
   "outputs": [],
   "source": [
    "# intents에 해당하는 슬롯 불러오기\n",
    "# 미정"
   ]
  },
  {
   "cell_type": "code",
   "execution_count": 32,
   "metadata": {},
   "outputs": [
    {
     "name": "stdout",
     "output_type": "stream",
     "text": [
      "다시 돌아가겠습니다.\n"
     ]
    }
   ],
   "source": [
    "### 시작2 ###\n",
    "okay = 0\n",
    "\n",
    "text = \"안녕하세요 동원 챗봇 푸디입니다. 언제든 말씀해 주세요.\"\n",
    "while True:\n",
    "    # 처음\n",
    "    if okay == 0:\n",
    "        start = input(text)\n",
    "\n",
    "        # 종료시\n",
    "        if start == \"종료\":\n",
    "            break\n",
    "\n",
    "        # 토큰화 하기\n",
    "        input_ids = []\n",
    "        attention_masks = []\n",
    "\n",
    "        ## 읽고 토큰화하기\n",
    "        encoded_dict = tokenizer.encode_plus(\n",
    "                                start,            \n",
    "                                add_special_tokens = True,\n",
    "                                max_length = max_len,\n",
    "                                pad_to_max_length = True, # padding =True 나 padding=\"longest\" 같은걸로 대체하세요\n",
    "                                return_attention_mask = True,\n",
    "                                return_tensors = 'pt')\n",
    "        \n",
    "        input_ids.append(encoded_dict['input_ids'])\n",
    "        attention_masks.append(encoded_dict['attention_mask'])\n",
    "\n",
    "        input_ids = torch.cat(input_ids, dim=0)\n",
    "        attention_masks = torch.cat(attention_masks, dim=0)\n",
    "\n",
    "        # mrc 돌리기\n",
    "        start2 = MRC(input_ids,attention_masks,start)\n",
    "        okay = 1 # 2번쨰 전환\n",
    "        ending = DIA(start2) # [문장,성격,title or dialog_node]\n",
    "\n",
    "        if ending == None:\n",
    "            time.sleep(0.5)\n",
    "            print(\"이해하기 어려워요. 쉽게 얘기해주세요\")\n",
    "            okay = 0\n",
    "            continue\n",
    "        \n",
    "    # 2번째부터\n",
    "    if okay == 1:\n",
    "        if start == \"종료\":\n",
    "            break\n",
    "\n",
    "        if ending == None:\n",
    "            time.sleep(0.5)\n",
    "            okay = 0\n",
    "            continue\n",
    "\n",
    "        start = input(ending[0])\n",
    "\n",
    "        if start == \"종료\":\n",
    "            break\n",
    "\n",
    "        if ending == None:\n",
    "            time.sleep(0.5)\n",
    "            okay = 0\n",
    "            continue\n",
    "\n",
    "        if start == \"처음으로\":\n",
    "            time.sleep(0.5)\n",
    "            print(\"다시 돌아가겠습니다.\")\n",
    "            okay = 0\n",
    "            continue\n",
    "\n",
    "        # ending = [문장,성격,title or dialog_node]\n",
    "        # 확인할때 유용한 print\n",
    "        # print(ending)\n",
    "\n",
    "        ## select 경우, (이미 답변을 준 상태 -> 답변에 해당하는 노드로 이동시켜줘야함)\n",
    "        if ending[1] == \"select\":\n",
    "            # title뒤에 어떤 글자가 들어가냐만을 파악\n",
    "            for x in title_list:\n",
    "                if ending[2][-2] == \"-\":\n",
    "                    if x == ending[2]+\"-Y\":\n",
    "                        ## Y, N ,O 라는 뜻\n",
    "                        ending[1] = \"YNO\"\n",
    "                        ending = DIA2(start,ending)\n",
    "                        break\n",
    "                elif ending[2][-2] == \"_\":\n",
    "                    if x == ending[2][:-2]+\"-Y\":\n",
    "                        ## Y, N ,O 라는 뜻\n",
    "                        ending[1] = \"YNO\"\n",
    "                        ending = DIA2(start,ending)\n",
    "                        break\n",
    "                # A,B는 아직 미구현(YNOA 인 경우도 있고 복잡함..)\n",
    "                # elif x == ending[2][:-2]+\"-A\": # [:len(ending[2])]\n",
    "                #     ## A,B 라는 뜻\n",
    "                #     ending[1] = \"AB\"\n",
    "                #     ending = DIA2(start,ending)\n",
    "                #     break \n",
    "        ## move 경우,\n",
    "        elif ending[1] == \"move\":\n",
    "            ending = DIA2(start,ending)"
   ]
  },
  {
   "cell_type": "code",
   "execution_count": 117,
   "metadata": {},
   "outputs": [
    {
     "data": {
      "text/plain": [
       "'회원가입혜택안내'"
      ]
     },
     "execution_count": 117,
     "metadata": {},
     "output_type": "execute_result"
    }
   ],
   "source": []
  }
 ],
 "metadata": {
  "kernelspec": {
   "display_name": "Python 3.8.13 ('py38')",
   "language": "python",
   "name": "python3"
  },
  "language_info": {
   "codemirror_mode": {
    "name": "ipython",
    "version": 3
   },
   "file_extension": ".py",
   "mimetype": "text/x-python",
   "name": "python",
   "nbconvert_exporter": "python",
   "pygments_lexer": "ipython3",
   "version": "3.8.13"
  },
  "orig_nbformat": 4,
  "vscode": {
   "interpreter": {
    "hash": "66793dee8b4a2983b6dd1bee8f592930418cb9cc68c57734dfcad44387fdcccf"
   }
  }
 },
 "nbformat": 4,
 "nbformat_minor": 2
}
