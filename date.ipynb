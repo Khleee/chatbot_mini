{
 "cells": [
  {
   "cell_type": "code",
   "execution_count": 17,
   "metadata": {},
   "outputs": [
    {
     "name": "stdout",
     "output_type": "stream",
     "text": [
      "2022-11-21\n"
     ]
    },
    {
     "data": {
      "text/plain": [
       "str"
      ]
     },
     "execution_count": 17,
     "metadata": {},
     "output_type": "execute_result"
    }
   ],
   "source": [
    "import time\n",
    "today = time.strftime('%Y-%m-%d', time.localtime(time.time()))\n",
    "print(today)\n",
    "type(today)"
   ]
  },
  {
   "cell_type": "code",
   "execution_count": 58,
   "metadata": {},
   "outputs": [
    {
     "data": {
      "text/plain": [
       "7"
      ]
     },
     "execution_count": 58,
     "metadata": {},
     "output_type": "execute_result"
    }
   ],
   "source": [
    "import pandas as pd\n",
    "import pymysql\n",
    "# DB 연결\n",
    "conn = pymysql.connect(host='127.0.0.1', user='root', password='7557', db='chatbot_db', charset='utf8')\n",
    "cur = conn.cursor() # 커서생성\n",
    "\n",
    "# cur.execute(\"SELECT * FROM fallback_message WHERE fallback_date = %s;\" %(today))\n",
    "cur.execute(\"SELECT * FROM fallback_message WHERE DATE(NOW())\")\n",
    "logs = cur.fetchall()\n",
    "\n",
    "logs = pd.DataFrame((logs))\n",
    "\n",
    "text_count = []\n",
    "for k,v in logs[1].value_counts().items():\n",
    "    text_count.append([k, v])\n",
    "len(text_count)\n",
    "# for i, log in enumerate(logs):\n",
    "#     if log[2] == \n",
    "\n"
   ]
  }
 ],
 "metadata": {
  "kernelspec": {
   "display_name": "Python 3.8.12 ('chatbot_1')",
   "language": "python",
   "name": "python3"
  },
  "language_info": {
   "codemirror_mode": {
    "name": "ipython",
    "version": 3
   },
   "file_extension": ".py",
   "mimetype": "text/x-python",
   "name": "python",
   "nbconvert_exporter": "python",
   "pygments_lexer": "ipython3",
   "version": "3.8.12"
  },
  "orig_nbformat": 4,
  "vscode": {
   "interpreter": {
    "hash": "98efaa9117024eb4347d2eed42837d090f19222aef3622c443d69f442e87efad"
   }
  }
 },
 "nbformat": 4,
 "nbformat_minor": 2
}
